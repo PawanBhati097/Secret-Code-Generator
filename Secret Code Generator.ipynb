{
 "cells": [
  {
   "cell_type": "code",
   "execution_count": 3,
   "id": "d83e83be-1eb6-4571-897f-61fbd3952338",
   "metadata": {},
   "outputs": [
    {
     "name": "stdout",
     "output_type": "stream",
     "text": [
      "\n",
      "Secret Code Generator Menu:\n",
      "1. Encode a message\n",
      "2. Decode a message\n",
      "3. Exit\n"
     ]
    },
    {
     "name": "stdin",
     "output_type": "stream",
     "text": [
      "Choose an option (1, 2, or 3):  1\n",
      "Enter the message to encode:  RAM\n",
      "Enter the shift amount:  1\n"
     ]
    },
    {
     "name": "stdout",
     "output_type": "stream",
     "text": [
      "Encoded Message: SBN\n",
      "\n",
      "Secret Code Generator Menu:\n",
      "1. Encode a message\n",
      "2. Decode a message\n",
      "3. Exit\n"
     ]
    },
    {
     "name": "stdin",
     "output_type": "stream",
     "text": [
      "Choose an option (1, 2, or 3):  2\n",
      "Enter the message to decode:  SBN\n",
      "Enter the shift amount:  1\n"
     ]
    },
    {
     "name": "stdout",
     "output_type": "stream",
     "text": [
      "Decoded Message: RAM\n",
      "\n",
      "Secret Code Generator Menu:\n",
      "1. Encode a message\n",
      "2. Decode a message\n",
      "3. Exit\n"
     ]
    },
    {
     "name": "stdin",
     "output_type": "stream",
     "text": [
      "Choose an option (1, 2, or 3):  3\n"
     ]
    },
    {
     "name": "stdout",
     "output_type": "stream",
     "text": [
      "Exiting the program.\n"
     ]
    }
   ],
   "source": [
    "# Function to encode a message\n",
    "def encode_message(message, shift):\n",
    "    encoded_message = \"\"\n",
    "    for char in message:\n",
    "        if char.isalpha():  # Check if the character is a letter\n",
    "            shift_base = ord('A') if char.isupper() else ord('a')\n",
    "            # Shift within the range of alphabet and handle wrapping using modulo\n",
    "            shifted_char = chr((ord(char) - shift_base + shift) % 26 + shift_base)\n",
    "            encoded_message += shifted_char\n",
    "        else:\n",
    "            encoded_message += char  # Non-alphabetic characters stay the same\n",
    "    return encoded_message\n",
    "\n",
    "# Function to decode a message\n",
    "def decode_message(message, shift):\n",
    "    return encode_message(message, -shift)\n",
    "\n",
    "# Function to display the menu and get user choice\n",
    "def menu():\n",
    "    while True:\n",
    "        print(\"\\nSecret Code Generator Menu:\")\n",
    "        print(\"1. Encode a message\")\n",
    "        print(\"2. Decode a message\")\n",
    "        print(\"3. Exit\")\n",
    "        \n",
    "        choice = input(\"Choose an option (1, 2, or 3): \")\n",
    "        \n",
    "        if choice == '1':\n",
    "            message = input(\"Enter the message to encode: \")\n",
    "            shift = int(input(\"Enter the shift amount: \"))\n",
    "            print(f\"Encoded Message: {encode_message(message, shift)}\")\n",
    "        \n",
    "        elif choice == '2':\n",
    "            message = input(\"Enter the message to decode: \")\n",
    "            shift = int(input(\"Enter the shift amount: \"))\n",
    "            print(f\"Decoded Message: {decode_message(message, shift)}\")\n",
    "        \n",
    "        elif choice == '3':\n",
    "            print(\"Exiting the program.\")\n",
    "            break\n",
    "        \n",
    "        else:\n",
    "            print(\"Invalid option. Please try again.\")\n",
    "\n",
    "# Run the program\n",
    "if __name__ == \"__main__\":\n",
    "    menu()\n"
   ]
  },
  {
   "cell_type": "code",
   "execution_count": null,
   "id": "3372117d-f19b-4019-87d6-80bd738dcd71",
   "metadata": {},
   "outputs": [],
   "source": []
  }
 ],
 "metadata": {
  "kernelspec": {
   "display_name": "Python 3 (ipykernel)",
   "language": "python",
   "name": "python3"
  },
  "language_info": {
   "codemirror_mode": {
    "name": "ipython",
    "version": 3
   },
   "file_extension": ".py",
   "mimetype": "text/x-python",
   "name": "python",
   "nbconvert_exporter": "python",
   "pygments_lexer": "ipython3",
   "version": "3.12.4"
  }
 },
 "nbformat": 4,
 "nbformat_minor": 5
}
